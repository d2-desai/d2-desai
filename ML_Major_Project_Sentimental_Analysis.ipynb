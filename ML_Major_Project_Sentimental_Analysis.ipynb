{
  "nbformat": 4,
  "nbformat_minor": 0,
  "metadata": {
    "colab": {
      "name": "ML-Major Project-Sentimental Analysis.ipynb",
      "provenance": [],
      "collapsed_sections": [],
      "include_colab_link": true
    },
    "kernelspec": {
      "name": "python3",
      "display_name": "Python 3"
    },
    "language_info": {
      "name": "python"
    }
  },
  "cells": [
    {
      "cell_type": "markdown",
      "metadata": {
        "id": "view-in-github",
        "colab_type": "text"
      },
      "source": [
        "<a href=\"https://colab.research.google.com/github/d2-desai/d2-desai/blob/main/ML_Major_Project_Sentimental_Analysis.ipynb\" target=\"_parent\"><img src=\"https://colab.research.google.com/assets/colab-badge.svg\" alt=\"Open In Colab\"/></a>"
      ]
    },
    {
      "cell_type": "code",
      "metadata": {
        "id": "jiQ9M8Rv-k0A"
      },
      "source": [
        "#sentimental analysis\n",
        "#by Disha Desai"
      ],
      "execution_count": null,
      "outputs": []
    },
    {
      "cell_type": "code",
      "metadata": {
        "id": "TWBag4glgSMk",
        "colab": {
          "base_uri": "https://localhost:8080/"
        },
        "outputId": "bf81819f-f92f-436b-abe5-5ecdc46bb7d0"
      },
      "source": [
        "!pip install vaderSentiment"
      ],
      "execution_count": null,
      "outputs": [
        {
          "output_type": "stream",
          "text": [
            "Collecting vaderSentiment\n",
            "\u001b[?25l  Downloading https://files.pythonhosted.org/packages/76/fc/310e16254683c1ed35eeb97386986d6c00bc29df17ce280aed64d55537e9/vaderSentiment-3.3.2-py2.py3-none-any.whl (125kB)\n",
            "\r\u001b[K     |██▋                             | 10kB 11.5MB/s eta 0:00:01\r\u001b[K     |█████▏                          | 20kB 10.0MB/s eta 0:00:01\r\u001b[K     |███████▉                        | 30kB 8.3MB/s eta 0:00:01\r\u001b[K     |██████████▍                     | 40kB 7.4MB/s eta 0:00:01\r\u001b[K     |█████████████                   | 51kB 4.2MB/s eta 0:00:01\r\u001b[K     |███████████████▋                | 61kB 4.3MB/s eta 0:00:01\r\u001b[K     |██████████████████▏             | 71kB 4.8MB/s eta 0:00:01\r\u001b[K     |████████████████████▉           | 81kB 5.0MB/s eta 0:00:01\r\u001b[K     |███████████████████████▍        | 92kB 5.2MB/s eta 0:00:01\r\u001b[K     |██████████████████████████      | 102kB 4.4MB/s eta 0:00:01\r\u001b[K     |████████████████████████████▋   | 112kB 4.4MB/s eta 0:00:01\r\u001b[K     |███████████████████████████████▏| 122kB 4.4MB/s eta 0:00:01\r\u001b[K     |████████████████████████████████| 133kB 4.4MB/s \n",
            "\u001b[?25hRequirement already satisfied: requests in /usr/local/lib/python3.7/dist-packages (from vaderSentiment) (2.23.0)\n",
            "Requirement already satisfied: certifi>=2017.4.17 in /usr/local/lib/python3.7/dist-packages (from requests->vaderSentiment) (2021.5.30)\n",
            "Requirement already satisfied: chardet<4,>=3.0.2 in /usr/local/lib/python3.7/dist-packages (from requests->vaderSentiment) (3.0.4)\n",
            "Requirement already satisfied: idna<3,>=2.5 in /usr/local/lib/python3.7/dist-packages (from requests->vaderSentiment) (2.10)\n",
            "Requirement already satisfied: urllib3!=1.25.0,!=1.25.1,<1.26,>=1.21.1 in /usr/local/lib/python3.7/dist-packages (from requests->vaderSentiment) (1.24.3)\n",
            "Installing collected packages: vaderSentiment\n",
            "Successfully installed vaderSentiment-3.3.2\n"
          ],
          "name": "stdout"
        }
      ]
    },
    {
      "cell_type": "code",
      "metadata": {
        "id": "HZ4UKc7oaVYh"
      },
      "source": [
        "import pandas as pd\n",
        "from vaderSentiment.vaderSentiment import SentimentIntensityAnalyzer"
      ],
      "execution_count": null,
      "outputs": []
    },
    {
      "cell_type": "code",
      "metadata": {
        "colab": {
          "base_uri": "https://localhost:8080/"
        },
        "id": "gO9U-7BRjCvX",
        "outputId": "f8ae4c9e-3356-4213-d5ee-9724a2254108"
      },
      "source": [
        "from google.colab import drive\n",
        "drive.mount('/content/drive')"
      ],
      "execution_count": null,
      "outputs": [
        {
          "output_type": "stream",
          "text": [
            "Mounted at /content/drive\n"
          ],
          "name": "stdout"
        }
      ]
    },
    {
      "cell_type": "code",
      "metadata": {
        "id": "OZ9xTHZ4aVnF"
      },
      "source": [
        "df = pd.read_csv('/content/drive/MyDrive/Major project/Twitter.csv')"
      ],
      "execution_count": null,
      "outputs": []
    },
    {
      "cell_type": "code",
      "metadata": {
        "id": "FXtEDn9WcS8R"
      },
      "source": [
        "df = df.dropna()"
      ],
      "execution_count": null,
      "outputs": []
    },
    {
      "cell_type": "code",
      "metadata": {
        "id": "XMPgNCzJ9TS6"
      },
      "source": [
        "df = df.iloc[:10000, ]"
      ],
      "execution_count": null,
      "outputs": []
    },
    {
      "cell_type": "code",
      "metadata": {
        "id": "qO5SbLuGca9w"
      },
      "source": [
        "vs = SentimentIntensityAnalyzer()"
      ],
      "execution_count": null,
      "outputs": []
    },
    {
      "cell_type": "code",
      "metadata": {
        "id": "kcaQuTICcbMq"
      },
      "source": [
        "com = []\n",
        "for t in df['clean_text']:\n",
        "   com.append(vs.polarity_scores(t)['compound'])\n",
        "df['compound'] = com"
      ],
      "execution_count": null,
      "outputs": []
    },
    {
      "cell_type": "code",
      "metadata": {
        "colab": {
          "base_uri": "https://localhost:8080/",
          "height": 417
        },
        "id": "KTKziSDvlnTb",
        "outputId": "d1b39d33-9b5b-4fe1-ec4a-6b9198a5efdd"
      },
      "source": [
        "df"
      ],
      "execution_count": null,
      "outputs": [
        {
          "output_type": "execute_result",
          "data": {
            "text/html": [
              "<div>\n",
              "<style scoped>\n",
              "    .dataframe tbody tr th:only-of-type {\n",
              "        vertical-align: middle;\n",
              "    }\n",
              "\n",
              "    .dataframe tbody tr th {\n",
              "        vertical-align: top;\n",
              "    }\n",
              "\n",
              "    .dataframe thead th {\n",
              "        text-align: right;\n",
              "    }\n",
              "</style>\n",
              "<table border=\"1\" class=\"dataframe\">\n",
              "  <thead>\n",
              "    <tr style=\"text-align: right;\">\n",
              "      <th></th>\n",
              "      <th>clean_text</th>\n",
              "      <th>category</th>\n",
              "      <th>compound</th>\n",
              "    </tr>\n",
              "  </thead>\n",
              "  <tbody>\n",
              "    <tr>\n",
              "      <th>0</th>\n",
              "      <td>when modi promised “minimum government maximum...</td>\n",
              "      <td>-1.0</td>\n",
              "      <td>0.5267</td>\n",
              "    </tr>\n",
              "    <tr>\n",
              "      <th>1</th>\n",
              "      <td>talk all the nonsense and continue all the dra...</td>\n",
              "      <td>0.0</td>\n",
              "      <td>-0.4019</td>\n",
              "    </tr>\n",
              "    <tr>\n",
              "      <th>2</th>\n",
              "      <td>what did just say vote for modi  welcome bjp t...</td>\n",
              "      <td>1.0</td>\n",
              "      <td>0.7096</td>\n",
              "    </tr>\n",
              "    <tr>\n",
              "      <th>3</th>\n",
              "      <td>asking his supporters prefix chowkidar their n...</td>\n",
              "      <td>1.0</td>\n",
              "      <td>-0.0713</td>\n",
              "    </tr>\n",
              "    <tr>\n",
              "      <th>4</th>\n",
              "      <td>answer who among these the most powerful world...</td>\n",
              "      <td>1.0</td>\n",
              "      <td>0.4754</td>\n",
              "    </tr>\n",
              "    <tr>\n",
              "      <th>...</th>\n",
              "      <td>...</td>\n",
              "      <td>...</td>\n",
              "      <td>...</td>\n",
              "    </tr>\n",
              "    <tr>\n",
              "      <th>9996</th>\n",
              "      <td>jds leaders also saying modi modi</td>\n",
              "      <td>0.0</td>\n",
              "      <td>0.0000</td>\n",
              "    </tr>\n",
              "    <tr>\n",
              "      <th>9997</th>\n",
              "      <td>woh sirf modi gaali raha tha and changed his m...</td>\n",
              "      <td>1.0</td>\n",
              "      <td>0.4019</td>\n",
              "    </tr>\n",
              "    <tr>\n",
              "      <th>9998</th>\n",
              "      <td>you must say what you witnessed since 2014 you...</td>\n",
              "      <td>1.0</td>\n",
              "      <td>0.6428</td>\n",
              "    </tr>\n",
              "    <tr>\n",
              "      <th>9999</th>\n",
              "      <td>knows once modi comes again his entire family ...</td>\n",
              "      <td>-1.0</td>\n",
              "      <td>-0.0992</td>\n",
              "    </tr>\n",
              "    <tr>\n",
              "      <th>10000</th>\n",
              "      <td>dought all constitution post now modi bhaktaur...</td>\n",
              "      <td>0.0</td>\n",
              "      <td>0.0000</td>\n",
              "    </tr>\n",
              "  </tbody>\n",
              "</table>\n",
              "<p>10000 rows × 3 columns</p>\n",
              "</div>"
            ],
            "text/plain": [
              "                                              clean_text  category  compound\n",
              "0      when modi promised “minimum government maximum...      -1.0    0.5267\n",
              "1      talk all the nonsense and continue all the dra...       0.0   -0.4019\n",
              "2      what did just say vote for modi  welcome bjp t...       1.0    0.7096\n",
              "3      asking his supporters prefix chowkidar their n...       1.0   -0.0713\n",
              "4      answer who among these the most powerful world...       1.0    0.4754\n",
              "...                                                  ...       ...       ...\n",
              "9996                  jds leaders also saying modi modi        0.0    0.0000\n",
              "9997   woh sirf modi gaali raha tha and changed his m...       1.0    0.4019\n",
              "9998   you must say what you witnessed since 2014 you...       1.0    0.6428\n",
              "9999   knows once modi comes again his entire family ...      -1.0   -0.0992\n",
              "10000  dought all constitution post now modi bhaktaur...       0.0    0.0000\n",
              "\n",
              "[10000 rows x 3 columns]"
            ]
          },
          "metadata": {
            "tags": []
          },
          "execution_count": 10
        }
      ]
    },
    {
      "cell_type": "code",
      "metadata": {
        "id": "TROzDnguehoD"
      },
      "source": [
        "from sklearn.model_selection import train_test_split\n",
        "x_train, x_test, y_train, y_test = train_test_split(df['compound'], df['category'])"
      ],
      "execution_count": null,
      "outputs": []
    },
    {
      "cell_type": "code",
      "metadata": {
        "id": "cZmn0ZA-mFru"
      },
      "source": [
        "x_train = x_train.values.reshape((-1, 1))\n",
        "x_test = x_test.values.reshape((-1, 1))"
      ],
      "execution_count": null,
      "outputs": []
    },
    {
      "cell_type": "code",
      "metadata": {
        "id": "9qX7grMhcbYT"
      },
      "source": [
        "from sklearn.svm import SVC"
      ],
      "execution_count": null,
      "outputs": []
    },
    {
      "cell_type": "code",
      "metadata": {
        "id": "zNYJz7Udp0Sp"
      },
      "source": [
        "s = SVC()"
      ],
      "execution_count": null,
      "outputs": []
    },
    {
      "cell_type": "code",
      "metadata": {
        "id": "kg72oDPKp0j5",
        "colab": {
          "base_uri": "https://localhost:8080/"
        },
        "outputId": "9ba03d3a-a524-41bd-e72c-7f5acc05304e"
      },
      "source": [
        "s.fit(x_train, y_train)"
      ],
      "execution_count": null,
      "outputs": [
        {
          "output_type": "execute_result",
          "data": {
            "text/plain": [
              "SVC(C=1.0, break_ties=False, cache_size=200, class_weight=None, coef0=0.0,\n",
              "    decision_function_shape='ovr', degree=3, gamma='scale', kernel='rbf',\n",
              "    max_iter=-1, probability=False, random_state=None, shrinking=True,\n",
              "    tol=0.001, verbose=False)"
            ]
          },
          "metadata": {
            "tags": []
          },
          "execution_count": 15
        }
      ]
    },
    {
      "cell_type": "code",
      "metadata": {
        "id": "5-oC-60Vp8Sn"
      },
      "source": [
        "y_pred = s.predict(x_test)"
      ],
      "execution_count": null,
      "outputs": []
    },
    {
      "cell_type": "code",
      "metadata": {
        "id": "194SKL0Dcbjh",
        "colab": {
          "base_uri": "https://localhost:8080/"
        },
        "outputId": "154d46af-06dd-4167-85e0-c3ff009688bb"
      },
      "source": [
        "from sklearn.metrics import accuracy_score\n",
        "accuracy_score(y_pred, y_test)"
      ],
      "execution_count": null,
      "outputs": [
        {
          "output_type": "execute_result",
          "data": {
            "text/plain": [
              "0.5592"
            ]
          },
          "metadata": {
            "tags": []
          },
          "execution_count": 17
        }
      ]
    },
    {
      "cell_type": "code",
      "metadata": {
        "id": "iOubOhsQcb2x",
        "colab": {
          "base_uri": "https://localhost:8080/"
        },
        "outputId": "24872269-7f91-4928-cfd1-995ad8c3efee"
      },
      "source": [
        "from sklearn.pipeline import make_pipeline\n",
        "text_model = make_pipeline(SVC())\n",
        " \n",
        "text_model.fit(x_train,y_train)\n",
        " \n",
        "y_pred = text_model.predict(x_test)\n",
        "y_pred"
      ],
      "execution_count": null,
      "outputs": [
        {
          "output_type": "execute_result",
          "data": {
            "text/plain": [
              "array([-1.,  0.,  0., ..., -1.,  1., -1.])"
            ]
          },
          "metadata": {
            "tags": []
          },
          "execution_count": 18
        }
      ]
    },
    {
      "cell_type": "code",
      "metadata": {
        "id": "fJ6vWLQbcaWl",
        "colab": {
          "base_uri": "https://localhost:8080/"
        },
        "outputId": "16744d09-6063-4512-fa5e-e8a4f744d842"
      },
      "source": [
        "text_model"
      ],
      "execution_count": null,
      "outputs": [
        {
          "output_type": "execute_result",
          "data": {
            "text/plain": [
              "Pipeline(memory=None,\n",
              "         steps=[('svc',\n",
              "                 SVC(C=1.0, break_ties=False, cache_size=200, class_weight=None,\n",
              "                     coef0=0.0, decision_function_shape='ovr', degree=3,\n",
              "                     gamma='scale', kernel='rbf', max_iter=-1,\n",
              "                     probability=False, random_state=None, shrinking=True,\n",
              "                     tol=0.001, verbose=False))],\n",
              "         verbose=False)"
            ]
          },
          "metadata": {
            "tags": []
          },
          "execution_count": 19
        }
      ]
    },
    {
      "cell_type": "code",
      "metadata": {
        "id": "Ib3EWA8mcapF",
        "colab": {
          "base_uri": "https://localhost:8080/"
        },
        "outputId": "c92b8869-c2c0-4898-f6fb-f2fb006f1bb8"
      },
      "source": [
        "import joblib\n",
        "joblib.dump(text_model,'Sentiment-Analysis')"
      ],
      "execution_count": null,
      "outputs": [
        {
          "output_type": "execute_result",
          "data": {
            "text/plain": [
              "['Sentiment-Analysis']"
            ]
          },
          "metadata": {
            "tags": []
          },
          "execution_count": 20
        }
      ]
    },
    {
      "cell_type": "code",
      "metadata": {
        "id": "GCG2-JkZxnwK",
        "colab": {
          "base_uri": "https://localhost:8080/"
        },
        "outputId": "57463eb2-85c0-4176-96e5-fecde932023c"
      },
      "source": [
        "!pip install streamlit --quiet\n",
        "!pip install pyngrok==4.1.1\n",
        "from pyngrok import ngrok"
      ],
      "execution_count": null,
      "outputs": [
        {
          "output_type": "stream",
          "text": [
            "\u001b[K     |████████████████████████████████| 7.8MB 4.3MB/s \n",
            "\u001b[K     |████████████████████████████████| 4.2MB 40.0MB/s \n",
            "\u001b[K     |████████████████████████████████| 112kB 49.2MB/s \n",
            "\u001b[K     |████████████████████████████████| 174kB 51.7MB/s \n",
            "\u001b[K     |████████████████████████████████| 81kB 9.8MB/s \n",
            "\u001b[K     |████████████████████████████████| 122kB 54.9MB/s \n",
            "\u001b[K     |████████████████████████████████| 71kB 7.5MB/s \n",
            "\u001b[K     |████████████████████████████████| 788kB 43.3MB/s \n",
            "\u001b[K     |████████████████████████████████| 368kB 40.2MB/s \n",
            "\u001b[?25h  Building wheel for blinker (setup.py) ... \u001b[?25l\u001b[?25hdone\n",
            "\u001b[31mERROR: jupyter-console 5.2.0 has requirement prompt-toolkit<2.0.0,>=1.0.0, but you'll have prompt-toolkit 3.0.19 which is incompatible.\u001b[0m\n",
            "\u001b[31mERROR: google-colab 1.0.0 has requirement ipykernel~=4.10, but you'll have ipykernel 6.0.2 which is incompatible.\u001b[0m\n",
            "\u001b[31mERROR: google-colab 1.0.0 has requirement ipython~=5.5.0, but you'll have ipython 7.25.0 which is incompatible.\u001b[0m\n",
            "Collecting pyngrok==4.1.1\n",
            "  Downloading https://files.pythonhosted.org/packages/e4/a9/de2e15c92eb3aa4a2646ce3a7542317eb69ac47f667578ce8bf916320847/pyngrok-4.1.1.tar.gz\n",
            "Requirement already satisfied: future in /usr/local/lib/python3.7/dist-packages (from pyngrok==4.1.1) (0.16.0)\n",
            "Requirement already satisfied: PyYAML in /usr/local/lib/python3.7/dist-packages (from pyngrok==4.1.1) (3.13)\n",
            "Building wheels for collected packages: pyngrok\n",
            "  Building wheel for pyngrok (setup.py) ... \u001b[?25l\u001b[?25hdone\n",
            "  Created wheel for pyngrok: filename=pyngrok-4.1.1-cp37-none-any.whl size=15985 sha256=76471c95583684405d5ec3a51dc0b0261ddfd055fe822b1e339d409fb09b533b\n",
            "  Stored in directory: /root/.cache/pip/wheels/97/71/0d/1695f7c8815c0beb3b5d9b35d6eec9243c87e6070fbe3977fa\n",
            "Successfully built pyngrok\n",
            "Installing collected packages: pyngrok\n",
            "Successfully installed pyngrok-4.1.1\n"
          ],
          "name": "stdout"
        }
      ]
    },
    {
      "cell_type": "code",
      "metadata": {
        "id": "QhGWuwZVx6q2",
        "colab": {
          "base_uri": "https://localhost:8080/"
        },
        "outputId": "7a9782c3-f57f-4062-dbe5-c3c97a9a17ff"
      },
      "source": [
        "%%writefile app.py\n",
        "import streamlit as st\n",
        "import joblib\n",
        "from vaderSentiment.vaderSentiment import SentimentIntensityAnalyzer\n",
        "vs = SentimentIntensityAnalyzer () \n",
        "st.title('Sentiment Analysis')\n",
        "test_model=joblib.load('Sentiment-Analysis')\n",
        "ip = st.text_input('Enter your tweet')\n",
        "ip = vs.polarity_scores(ip)['compound']\n",
        "op = test_model.predict([[ip]])[0]\n",
        "if st.button('Predict'):\n",
        "  st.title(op)"
      ],
      "execution_count": null,
      "outputs": [
        {
          "output_type": "stream",
          "text": [
            "Writing app.py\n"
          ],
          "name": "stdout"
        }
      ]
    },
    {
      "cell_type": "code",
      "metadata": {
        "id": "xi4yK_RAyMnb",
        "colab": {
          "base_uri": "https://localhost:8080/",
          "height": 52
        },
        "outputId": "93423e09-456a-4d76-ca1a-e277635bd69c"
      },
      "source": [
        "!nohup streamlit run app.py &\n",
        "url = ngrok.connect(port='8501')\n",
        "url"
      ],
      "execution_count": null,
      "outputs": [
        {
          "output_type": "stream",
          "text": [
            "nohup: appending output to 'nohup.out'\n"
          ],
          "name": "stdout"
        },
        {
          "output_type": "execute_result",
          "data": {
            "application/vnd.google.colaboratory.intrinsic+json": {
              "type": "string"
            },
            "text/plain": [
              "'http://d90786edbdb6.ngrok.io'"
            ]
          },
          "metadata": {
            "tags": []
          },
          "execution_count": 23
        }
      ]
    },
    {
      "cell_type": "code",
      "metadata": {
        "id": "5SQU_FLL-MY_"
      },
      "source": [
        ""
      ],
      "execution_count": null,
      "outputs": []
    }
  ]
}